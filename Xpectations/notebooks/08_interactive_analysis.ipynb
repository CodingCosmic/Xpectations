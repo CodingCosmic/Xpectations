# 08_interactive_analysis.ipynb

import ipywidgets as widgets
from IPython.display import display, HTML
from core.disasm import X86Analyzer
from core.shellcode import ShellcodeDetector
from core.rop import ROPDetector
from core.obfuscation import ObfuscationDetector
from core.report import generate_report
from core.log import setup_logging

setup_logging()

# File upload widget
upload_button = widgets.FileUpload(accept='.exe,.bin,.o,.dylib,.so', multiple=False)
display(upload_button)

# Interactive analysis controls
analyze_button = widgets.Button(description="Start Interactive Analysis")
instruction_display = widgets.Textarea(value='', description="Instructions:", layout=widgets.Layout(width='100%', height='150px'))
shellcode_output = widgets.Output()
rop_output = widgets.Output()
obfuscation_output = widgets.Output()

display(analyze_button)
display(instruction_display)
display(shellcode_output)
display(rop_output)
display(obfuscation_output)

# Function to handle interactive analysis
def start_interactive_analysis(change):
    if upload_button.value:
        # Extract file content from widget
        file_info = upload_button.value[list(upload_button.value.keys())[0]]
        file_name = file_info['metadata']['name']
        file_content = file_info['content']

        # Save the uploaded file to disk
        file_path = f"/tmp/{file_name}"
        with open(file_path, 'wb') as f:
            f.write(file_content)

        # Initialize analysis tools
        analyzer = X86Analyzer(file_content)
        shellcode_detector = ShellcodeDetector(file_content)
        rop_detector = ROPDetector(file_content)
        obfuscation_detector = ObfuscationDetector(file_content)

        # Disassemble and display instructions
        instructions = analyzer.identify_instructions()
        instruction_display.value = '\n'.join(instructions)

        # Detect shellcode and display results
        with shellcode_output:
            shellcode_output.clear_output()
            shellcode_found = shellcode_detector.detect_shellcode()
            if shellcode_found:
                display(HTML("<b style='color: red;'>Shellcode detected!</b>"))
            else:
                display(HTML("<b style='color: green;'>No shellcode detected.</b>"))

        # Detect ROP chains and display results
        with rop_output:
            rop_output.clear_output()
            rop_found = rop_detector.detect_rop_chains()
            if rop_found:
                display(HTML("<b style='color: red;'>ROP chains detected!</b>"))
            else:
                display(HTML("<b style='color: green;'>No ROP chains detected.</b>"))

        # Detect obfuscation and display results
        with obfuscation_output:
            obfuscation_output.clear_output()
            obfuscation_found = obfuscation_detector.detect_obfuscation()
            if obfuscation_found:
                display(HTML("<b style='color: red;'>Obfuscation detected!</b>"))
            else:
                display(HTML("<b style='color: green;'>No obfuscation detected.</b>"))

        # Option to generate a report
        generate_report_button = widgets.Button(description="Generate Report")
        display(generate_report_button)
        
        def generate_report_action(change):
            report = generate_report(instructions)
            report_file = f"{file_path}_report.json"
            with open(report_file, 'w') as rf:
                rf.write(report)
            display(HTML(f"<b>Report saved to {report_file}</b>"))

        generate_report_button.on_click(generate_report_action)

analyze_button.on_click(start_interactive_analysis)
