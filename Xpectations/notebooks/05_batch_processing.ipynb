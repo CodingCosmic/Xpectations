# 05_batch_processing.ipynb

import ipywidgets as widgets
from IPython.display import display, HTML
from core.log import setup_logging, log_message
from core.disasm import X86Analyzer
from core.report import generate_report
import os

setup_logging()

# Directory upload widget
input_dir_button = widgets.Text(description="Input Directory:")
output_dir_button = widgets.Text(description="Output Directory:")

display(input_dir_button)
display(output_dir_button)

# Batch processing button
process_button = widgets.Button(description="Process Batch")
display(process_button)

# Function to handle batch processing
def process_batch(change):
    input_dir = input_dir_button.value
    output_dir = output_dir_button.value

    if not os.path.exists(output_dir):
        os.makedirs(output_dir)

    log_message(f"Starting batch processing of directory: {input_dir}")

    for file_name in os.listdir(input_dir):
        file_path = os.path.join(input_dir, file_name)
        if os.path.isfile(file_path):
            log_message(f"Processing file: {file_path}")

            with open(file_path, 'rb') as f:
                binary_code = f.read()

            analyzer = X86Analyzer(binary_code)
            instructions = analyzer.identify_instructions()

            report = generate_report(instructions)
            report_file = os.path.join(output_dir, f"{file_name}.json")
            with open(report_file, 'w') as rf:
                rf.write(report)

            log_message(f"Report generated: {report_file}")

    log_message("Batch processing complete.")
    display(HTML("<b>Batch processing completed successfully.</b>"))

process_button.on_click(process_batch)
