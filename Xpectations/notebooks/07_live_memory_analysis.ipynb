# 07_live_memory_analysis.ipynb

import ipywidgets as widgets
from IPython.display import display, HTML
from core.log import setup_logging
from core.disasm import X86Analyzer
from core.report import generate_report

setup_logging()

# File upload widget
upload_button = widgets.FileUpload(accept='.dmp,.bin,.img', multiple=False)
display(upload_button)

# Memory analysis button
analyze_button = widgets.Button(description="Analyze Memory Dump")
display(analyze_button)

# Function to handle file upload and memory dump analysis
def analyze_memory_dump(change):
    if upload_button.value:
        # Extract file content from widget
        file_info = upload_button.value[list(upload_button.value.keys())[0]]
        file_name = file_info['metadata']['name']
        file_content = file_info['content']

        # Save the uploaded file to disk
        dump_path = f"/tmp/{file_name}"
        with open(dump_path, 'wb') as f:
            f.write(file_content)

        # Analyze the memory dump
        analyzer = X86Analyzer(file_content)
        instructions = analyzer.identify_instructions()

        # Generate and display report
        report = generate_report(instructions)
        display(HTML("<b>Memory Dump Analysis Completed.</b>"))
        display(report)

        # Optionally save the report
        report_file = f"{dump_path}_report.json"
        with open(report_file, 'w') as rf:
            rf.write(report)
        display(HTML(f"<b>Report saved to {report_file}</b>"))

analyze_button.on_click(analyze_memory_dump)
