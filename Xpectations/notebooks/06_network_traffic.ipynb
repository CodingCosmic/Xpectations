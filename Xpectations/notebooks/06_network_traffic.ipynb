# 06_network_traffic.ipynb

import ipywidgets as widgets
from IPython.display import display, HTML
from core.log import setup_logging
from core.shellcode import ShellcodeDetector
import pyshark

setup_logging()

# File upload widget
upload_button = widgets.FileUpload(accept='.pcap', multiple=False)
display(upload_button)

# Network traffic analysis button
analyze_button = widgets.Button(description="Analyze Traffic")
display(analyze_button)

# Function to handle PCAP file upload and analysis
def analyze_traffic(change):
    if upload_button.value:
        # Extract file content from widget
        file_info = upload_button.value[list(upload_button.value.keys())[0]]
        file_name = file_info['metadata']['name']
        file_content = file_info['content']

        # Save the uploaded file to disk
        pcap_path = f"/tmp/{file_name}"
        with open(pcap_path, 'wb') as f:
            f.write(file_content)

        # Analyze network traffic using pyshark
        packets = pyshark.FileCapture(pcap_path)
        suspicious_packets = []

        for packet in packets:
            if 'DATA' in packet:
                raw_data = bytes.fromhex(packet['DATA'].data.replace(':', ''))
                shellcode_detector = ShellcodeDetector(raw_data)
                if shellcode_detector.detect_shellcode():
                    suspicious_packets.append(packet)

        # Display results
        if suspicious_packets:
            result_html = "<b style='color: red;'>Suspicious packets detected!</b>"
        else:
            result_html = "<b style='color: green;'>No suspicious packets detected.</b>"

        display(HTML(result_html))

analyze_button.on_click(analyze_traffic)
