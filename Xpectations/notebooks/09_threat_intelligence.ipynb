# 09_threat_intelligence.ipynb

import ipywidgets as widgets
from IPython.display import display, HTML
from core.threat_intel import ThreatIntel
from core.log import setup_logging

setup_logging()

# API Key input
api_key_input = widgets.Password(description="API Key:")
display(api_key_input)

# Threat intelligence button
update_button = widgets.Button(description="Update Threat Signatures")
display(update_button)

# Output area
output_area = widgets.Output()
display(output_area)

# Function to update threat intelligence signatures
def update_threat_signatures(change):
    with output_area:
        output_area.clear_output()
        api_key = api_key_input.value
        if not api_key:
            display(HTML("<b style='color: red;'>API Key is required.</b>"))
            return

        # Initialize threat intelligence integration
        threat_intel = ThreatIntel(api_key)
        signatures = threat_intel.fetch_latest_signatures()

        if signatures:
            display(HTML("<b style='color: green;'>Threat signatures updated successfully.</b>"))
            display(f"Number of signatures fetched: {len(signatures)}")
        else:
            display(HTML("<b style='color: red;'>Failed to update threat signatures.</b>"))

update_button.on_click(update_threat_signatures)
