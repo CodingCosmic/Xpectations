# 02_shellcode_detection.ipynb

import ipywidgets as widgets
from IPython.display import display, HTML
from core.shellcode import ShellcodeDetector
from core.file_upload import handle_upload
from core.log import setup_logging

setup_logging()

# File upload widget
upload_button = widgets.FileUpload(accept='.exe,.bin,.o,.dylib,.so', multiple=False)
display(upload_button)

# Shellcode detection button
detect_button = widgets.Button(description="Detect Shellcode")
display(detect_button)

# Function to handle file upload and shellcode detection
def detect_shellcode(change):
    if upload_button.value:
        # Extract file content from widget
        file_info = upload_button.value[list(upload_button.value.keys())[0]]
        file_name = file_info['metadata']['name']
        file_content = file_info['content']

        # Handle file upload and save to disk
        file_path = handle_upload(file_name, file_content)

        # Initialize the shellcode detector
        detector = ShellcodeDetector(file_content)

        # Run shellcode detection
        shellcode_found = detector.detect_shellcode()

        # Display results
        if shellcode_found:
            result_html = "<b style='color: red;'>Shellcode detected!</b>"
        else:
            result_html = "<b style='color: green;'>No shellcode detected.</b>"

        display(HTML(result_html))

detect_button.on_click(detect_shellcode)
