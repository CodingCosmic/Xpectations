# 01_x86_analysis.ipynb

import ipywidgets as widgets
from IPython.display import display
from core.disasm import X86Analyzer
from core.log import setup_logging, log_message
from core.report import generate_report

# Initialize the analyzer and logging
setup_logging()

# File upload widget
upload_button = widgets.FileUpload(accept='.exe,.bin,.o,.dylib,.so', multiple=False)
display(upload_button)

# Analysis button
analyze_button = widgets.Button(description="Analyze Binary")
display(analyze_button)

# Function to handle file upload and analysis
def analyze_binary(change):
    if upload_button.value:
        # Extract file content from widget
        file_info = upload_button.value[list(upload_button.value.keys())[0]]
        file_name = file_info['metadata']['name']
        file_content = file_info['content']
        
        # Handle file upload and save to disk
        file_path = handle_upload(file_name, file_content)
        
        # Initialize analyzer
        analyzer = X86Analyzer(file_path)
        
        # Run analysis
        instructions = analyzer.identify_instructions()
        
        # Generate and display report
        report = generate_report(instructions)
        display(report)
        
        # Optionally save the report
        with open('analysis_report.json', 'w') as f:
            f.write(report)

analyze_button.on_click(analyze_binary)
