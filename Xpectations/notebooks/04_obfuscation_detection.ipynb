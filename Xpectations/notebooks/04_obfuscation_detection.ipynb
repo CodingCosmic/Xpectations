# 04_obfuscation_detection.ipynb

import ipywidgets as widgets
from IPython.display import display, HTML
from core.obfuscation import ObfuscationDetector
from core.file_upload import handle_upload
from core.log import setup_logging

setup_logging()

# File upload widget
upload_button = widgets.FileUpload(accept='.exe,.bin,.o,.dylib,.so', multiple=False)
display(upload_button)

# Obfuscation detection button
detect_button = widgets.Button(description="Detect Obfuscation")
display(detect_button)

# De-obfuscate button
deobfuscate_button = widgets.Button(description="De-obfuscate Code")
display(deobfuscate_button)

# Function to handle file upload and obfuscation detection
def detect_obfuscation(change):
    if upload_button.value:
        # Extract file content from widget
        file_info = upload_button.value[list(upload_button.value.keys())[0]]
        file_name = file_info['metadata']['name']
        file_content = file_info['content']

        # Handle file upload and save to disk
        file_path = handle_upload(file_name, file_content)

        # Initialize the obfuscation detector
        detector = ObfuscationDetector(file_content)

        # Run obfuscation detection
        obfuscation_found = detector.detect_obfuscation()

        # Display results
        if obfuscation_found:
            result_html = "<b style='color: red;'>Obfuscation detected!</b>"
        else:
            result_html = "<b style='color: green;'>No obfuscation detected.</b>"

        display(HTML(result_html))

# Function to handle de-obfuscation
def deobfuscate_code(change):
    if upload_button.value:
        # Extract file content from widget
        file_info = upload_button.value[list(upload_button.value.keys())[0]]
        file_content = file_info['content']

        # Initialize the obfuscation detector
        detector = ObfuscationDetector(file_content)

        # Attempt to de-obfuscate code
        deobfuscated_code = detector.deobfuscate()

        # Display results
        if deobfuscated_code:
            result_html = "<b style='color: blue;'>Code de-obfuscated successfully.</b>"
        else:
            result_html = "<b style='color: red;'>Failed to de-obfuscate code.</b>"

        display(HTML(result_html))

detect_button.on_click(detect_obfuscation)
deobfuscate_button.on_click(deobfuscate_code)
