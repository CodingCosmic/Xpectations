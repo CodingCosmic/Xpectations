# 03_rop_detection.ipynb

import ipywidgets as widgets
from IPython.display import display, HTML
from core.rop import ROPDetector
from core.file_upload import handle_upload
from core.log import setup_logging

setup_logging()

# File upload widget
upload_button = widgets.FileUpload(accept='.exe,.bin,.o,.dylib,.so', multiple=False)
display(upload_button)

# ROP detection button
detect_button = widgets.Button(description="Detect ROP Chains")
display(detect_button)

# Function to handle file upload and ROP chain detection
def detect_rop_chains(change):
    if upload_button.value:
        # Extract file content from widget
        file_info = upload_button.value[list(upload_button.value.keys())[0]]
        file_name = file_info['metadata']['name']
        file_content = file_info['content']

        # Handle file upload and save to disk
        file_path = handle_upload(file_name, file_content)

        # Initialize the ROP detector
        detector = ROPDetector(file_content)

        # Run ROP chain detection
        rop_found = detector.detect_rop_chains()

        # Display results
        if rop_found:
            result_html = "<b style='color: red;'>ROP chains detected!</b>"
        else:
            result_html = "<b style='color: green;'>No ROP chains detected.</b>"

        display(HTML(result_html))

detect_button.on_click(detect_rop_chains)
