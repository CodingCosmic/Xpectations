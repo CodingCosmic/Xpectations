# 10_report_generation.ipynb

import ipywidgets as widgets
from IPython.display import display, HTML
from core.report import generate_report
from core.log import setup_logging

setup_logging()

# File selection widget
file_selector = widgets.Text(description="Binary File:", placeholder="Path to binary file")
report_format = widgets.Dropdown(
    options=['json', 'xml', 'csv'],
    value='json',
    description='Format:',
)
generate_button = widgets.Button(description="Generate Report")

display(file_selector)
display(report_format)
display(generate_button)

# Output area
output_area = widgets.Output()
display(output_area)

# Function to generate and save the report
def generate_report_file(change):
    with output_area:
        output_area.clear_output()
        file_path = file_selector.value
        format = report_format.value

        try:
            with open(file_path, 'rb') as f:
                binary_code = f.read()

            # Generate report
            report = generate_report(binary_code, format=format)
            report_file = f"{file_path}_report.{format}"

            with open(report_file, 'w') as rf:
                rf.write(report)

            display(HTML(f"<b>Report saved to {report_file}</b>"))
        except FileNotFoundError:
            display(HTML("<b style='color: red;'>File not found. Please check the path.</b>"))
        except Exception as e:
            display(HTML(f"<b style='color: red;'>Error: {str(e)}</b>"))

generate_button.on_click(generate_report_file)
